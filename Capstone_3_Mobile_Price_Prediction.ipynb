{
  "nbformat": 4,
  "nbformat_minor": 0,
  "metadata": {
    "colab": {
      "name": "Capstone-3 Mobile_Price_Prediction.ipynb",
      "provenance": [],
      "authorship_tag": "ABX9TyMFuJQQ8ejDfyR/r8q5Dz44",
      "include_colab_link": true
    },
    "kernelspec": {
      "name": "python3",
      "display_name": "Python 3"
    },
    "language_info": {
      "name": "python"
    }
  },
  "cells": [
    {
      "cell_type": "markdown",
      "metadata": {
        "id": "view-in-github",
        "colab_type": "text"
      },
      "source": [
        "<a href=\"https://colab.research.google.com/github/sagar2582/Capstone-3-Mobile_Price_Prediction/blob/main/Capstone_3_Mobile_Price_Prediction.ipynb\" target=\"_parent\"><img src=\"https://colab.research.google.com/assets/colab-badge.svg\" alt=\"Open In Colab\"/></a>"
      ]
    },
    {
      "cell_type": "markdown",
      "source": [
        "# Mobile Phone Price Prediction Classification Project"
      ],
      "metadata": {
        "id": "tPCoWNA7rmXq"
      }
    },
    {
      "cell_type": "code",
      "source": [
        ""
      ],
      "metadata": {
        "id": "6Wv3EHEErwDI"
      },
      "execution_count": null,
      "outputs": []
    }
  ]
}